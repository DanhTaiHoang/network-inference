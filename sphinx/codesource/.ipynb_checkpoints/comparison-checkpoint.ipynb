{
 "cells": [
  {
   "cell_type": "markdown",
   "metadata": {},
   "source": [
    "# Comparison: MLE vs. FEM\n",
    "\n",
    "As shown in the previous sections, it is clear that the mean field approximations such as nMF, TAP, and eMF produce worse inference results, compared with MLE and FEM. In the following, we thus compare only MLE and FEM. We will show that FEM works as well as MLE in the small coupling variability regime. However, FEM outperforms MLE in the difficult large coupling variability regime.\n",
    "\n",
    "Beside the better performance, FEM has several computational merits. First, FEM update is multiplicative and not incremental as FEM update, thus FEM works faster than MLE. Second, FEM does not require any tunable parameter, however MLE has a learning rate parameter.\n",
    "\n",
    "As usual, first of all, the necessary packages are imported to the jupyter notebook. "
   ]
  },
  {
   "cell_type": "code",
   "execution_count": 1,
   "metadata": {},
   "outputs": [],
   "source": [
    "import numpy as np\n",
    "import sys\n",
    "import timeit\n",
    "import matplotlib.pyplot as plt\n",
    "import simulate\n",
    "import inference\n",
    "%matplotlib inline\n",
    "\n",
    "np.random.seed(1)"
   ]
  },
  {
   "cell_type": "markdown",
   "metadata": {},
   "source": [
    "We consider a system of $N = 100$ variables. Data length $L=2000$ is used to demonstrade. A leaning rate `rate` $= 1$ is selected for MLE."
   ]
  },
  {
   "cell_type": "code",
   "execution_count": 2,
   "metadata": {},
   "outputs": [],
   "source": [
    "# parameter setting:\n",
    "n = 100\n",
    "l = 2000\n",
    "rate = 1."
   ]
  },
  {
   "cell_type": "markdown",
   "metadata": {},
   "source": [
    "We first consider the small coupling variability regime, g = 2.0"
   ]
  },
  {
   "cell_type": "code",
   "execution_count": 3,
   "metadata": {},
   "outputs": [],
   "source": [
    "g = 2.0"
   ]
  },
  {
   "cell_type": "markdown",
   "metadata": {},
   "source": [
    "From the parameters, we generate coupling matrix:"
   ]
  },
  {
   "cell_type": "code",
   "execution_count": 4,
   "metadata": {},
   "outputs": [],
   "source": [
    "w0 = np.random.normal(0.0,g/np.sqrt(n),size=(n,n))"
   ]
  },
  {
   "cell_type": "markdown",
   "metadata": {},
   "source": [
    "The configurations of variables are also generated:"
   ]
  },
  {
   "cell_type": "code",
   "execution_count": 5,
   "metadata": {},
   "outputs": [],
   "source": [
    "s = simulate.generate_data(w0,l)"
   ]
  },
  {
   "cell_type": "markdown",
   "metadata": {},
   "source": [
    "We now apply MLE to recover the coupling matrix `w0` from the configurations `s`. As shown in the MLE section, the performance of MLE can be improved by using our stopping criterion. Additionally, our stopping criterion can help MLE to avoid unnecessary iterations. Thus, to make a concrete ilustration, in the following, we consider MLE with our stopping criterion. We can select this option by setting `top_criterion='yes'`."
   ]
  },
  {
   "cell_type": "code",
   "execution_count": 6,
   "metadata": {},
   "outputs": [
    {
     "name": "stdout",
     "output_type": "stream",
     "text": [
      "MLE:\n",
      "('run_time:', 9.159331798553467)\n",
      "('MSE:', 0.0029889738951087916)\n"
     ]
    }
   ],
   "source": [
    "print('MLE:')\n",
    "start_time = timeit.default_timer()\n",
    "\n",
    "wMLE = inference.mle(s,rate,stop_criterion='yes')\n",
    "\n",
    "stop_time=timeit.default_timer()\n",
    "run_time=stop_time-start_time\n",
    "print('run_time:',run_time)\n",
    "\n",
    "MSE_MLE = np.mean((wMLE-w0)**2)\n",
    "print('MSE:',MSE_MLE)"
   ]
  },
  {
   "cell_type": "markdown",
   "metadata": {},
   "source": [
    "For a comparision, we also apply FEM to recover the coupling matrix."
   ]
  },
  {
   "cell_type": "code",
   "execution_count": 7,
   "metadata": {},
   "outputs": [
    {
     "name": "stdout",
     "output_type": "stream",
     "text": [
      "FEM:\n",
      "('run_time:', 0.4248168468475342)\n",
      "('MSE:', 0.002227111736127038)\n"
     ]
    }
   ],
   "source": [
    "print('FEM:')\n",
    "start_time = timeit.default_timer()\n",
    "\n",
    "wFEM = inference.fem(s)\n",
    "\n",
    "stop_time=timeit.default_timer()\n",
    "run_time=stop_time-start_time\n",
    "print('run_time:',run_time)\n",
    "\n",
    "MSE_FEM = np.mean((wFEM-w0)**2)\n",
    "print('MSE:',MSE_FEM)"
   ]
  },
  {
   "cell_type": "markdown",
   "metadata": {},
   "source": [
    "The result shows that the mean square error (MSE) obtaining from FEM is slighty lower than that from MLE. Additionally, FEM works faster than MLE.\n",
    "\n",
    "The inferred couplings are plotted as function of actual couplings:  "
   ]
  },
  {
   "cell_type": "code",
   "execution_count": 8,
   "metadata": {},
   "outputs": [
    {
     "data": {
      "image/png": "[encoded data removed]",
      "text/plain": [
       "<Figure size 468x230.4 with 2 Axes>"
      ]
     },
     "metadata": {},
     "output_type": "display_data"
    }
   ],
   "source": [
    "plt.figure(figsize=(6.5,3.2))\n",
    "\n",
    "plt.subplot2grid((1,2),(0,0))\n",
    "plt.title('MLE')\n",
    "plt.plot([-1,1],[-1,1],'r--')\n",
    "plt.scatter(w0,wMLE)\n",
    "plt.xlabel('actual couplings')\n",
    "plt.ylabel('inferred couplings')\n",
    "\n",
    "plt.subplot2grid((1,2),(0,1))\n",
    "plt.title('FEM')\n",
    "plt.plot([-1,1],[-1,1],'r--')\n",
    "plt.scatter(w0,wFEM)\n",
    "plt.xlabel('actual couplings')\n",
    "plt.ylabel('inferred couplings')\n",
    "\n",
    "plt.tight_layout(h_pad=1, w_pad=1.5)\n",
    "plt.show()"
   ]
  },
  {
   "cell_type": "markdown",
   "metadata": {},
   "source": [
    "Now, we consider the difficult regime (large coupling variability): g = 4.0"
   ]
  },
  {
   "cell_type": "code",
   "execution_count": 9,
   "metadata": {},
   "outputs": [],
   "source": [
    "g = 4.0"
   ]
  },
  {
   "cell_type": "markdown",
   "metadata": {},
   "source": [
    "Similary, the actual coupling matrix `w0` is generated. From this couplings, we generate configurations of variables `s`."
   ]
  },
  {
   "cell_type": "code",
   "execution_count": 10,
   "metadata": {},
   "outputs": [],
   "source": [
    "w0 = np.random.normal(0.0,g/np.sqrt(n),size=(n,n))\n",
    "s = simulate.generate_data(w0,l)"
   ]
  },
  {
   "cell_type": "markdown",
   "metadata": {},
   "source": [
    "We first use MLE to recover the coupling matrix from the configurations:"
   ]
  },
  {
   "cell_type": "code",
   "execution_count": null,
   "metadata": {},
   "outputs": [
    {
     "name": "stdout",
     "output_type": "stream",
     "text": [
      "MLE:\n"
     ]
    }
   ],
   "source": [
    "print('MLE:')\n",
    "start_time = timeit.default_timer()\n",
    "\n",
    "wMLE = inference.mle(s,rate,stop_criterion='yes')\n",
    "\n",
    "stop_time=timeit.default_timer()\n",
    "run_time=stop_time-start_time\n",
    "print('run_time:',run_time)\n",
    "\n",
    "MSE_MLE = np.mean((wMLE-w0)**2)\n",
    "print('MSE:',MSE_MLE)"
   ]
  },
  {
   "cell_type": "markdown",
   "metadata": {},
   "source": [
    "FEM is also used to recover the coupling matrix:"
   ]
  },
  {
   "cell_type": "code",
   "execution_count": null,
   "metadata": {},
   "outputs": [],
   "source": [
    "print('FEM:')\n",
    "start_time = timeit.default_timer()\n",
    "\n",
    "wFEM = inference.fem(s)\n",
    "\n",
    "stop_time=timeit.default_timer()\n",
    "run_time=stop_time-start_time\n",
    "print('run_time:',run_time)\n",
    "\n",
    "MSE_FEM = np.mean((wFEM-w0)**2)\n",
    "print('MSE:',MSE_FEM)"
   ]
  },
  {
   "cell_type": "code",
   "execution_count": null,
   "metadata": {},
   "outputs": [],
   "source": [
    "plt.figure(figsize=(6.5,3.2))\n",
    "\n",
    "plt.subplot2grid((1,2),(0,0))\n",
    "plt.title('MLE')\n",
    "plt.plot([-2.,2.],[-2.0,2.0],'r--')\n",
    "plt.scatter(w0,wMLE)\n",
    "plt.xlabel('actual couplings')\n",
    "plt.ylabel('inferred couplings')\n",
    "\n",
    "plt.subplot2grid((1,2),(0,1))\n",
    "plt.title('FEM')\n",
    "plt.plot([-2.,2.],[-2.0,2.0],'r--')\n",
    "plt.scatter(w0,wFEM)\n",
    "plt.xlabel('actual couplings')\n",
    "plt.ylabel('inferred couplings')\n",
    "\n",
    "plt.tight_layout(h_pad=1, w_pad=1.5)\n",
    "plt.show()"
   ]
  },
  {
   "cell_type": "markdown",
   "metadata": {},
   "source": [
    "The result show that MSE obtaining from FEM is significantly lower than that from MLE, and FEM works much faster than MLE, even when MLE is using our stopping criterion."
   ]
  },
  {
   "cell_type": "code",
   "execution_count": null,
   "metadata": {},
   "outputs": [],
   "source": []
  }
 ],
 "metadata": {
  "kernelspec": {
   "display_name": "Python 2",
   "language": "python",
   "name": "python2"
  },
  "language_info": {
   "codemirror_mode": {
    "name": "ipython",
    "version": 2
   },
   "file_extension": ".py",
   "mimetype": "text/x-python",
   "name": "python",
   "nbconvert_exporter": "python",
   "pygments_lexer": "ipython2",
   "version": "2.7.15"
  }
 },
 "nbformat": 4,
 "nbformat_minor": 2
}
