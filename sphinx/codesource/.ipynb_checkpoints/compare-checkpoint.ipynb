{
 "cells": [
  {
   "cell_type": "markdown",
   "metadata": {},
   "source": [
    "# Performance"
   ]
  },
  {
   "cell_type": "code",
   "execution_count": 1,
   "metadata": {
    "collapsed": true
   },
   "outputs": [],
   "source": [
    "import numpy as np\n",
    "import sys\n",
    "import matplotlib.pyplot as plt\n",
    "import simulate\n",
    "import inference\n",
    "%matplotlib inline\n",
    "\n",
    "np.random.seed(1)"
   ]
  },
  {
   "cell_type": "markdown",
   "metadata": {},
   "source": [
    "Similary, we first consider a system of $N = 100$ variables, coupling variance parameter $g = 2.0$"
   ]
  },
  {
   "cell_type": "code",
   "execution_count": 2,
   "metadata": {
    "collapsed": true
   },
   "outputs": [],
   "source": [
    "# parameter setting:\n",
    "n = 100    # number of variables\n",
    "g = 2.0    # coupling variance\n",
    "w0 = np.random.normal(0.0,g/np.sqrt(n),size=(n,n))"
   ]
  },
  {
   "cell_type": "markdown",
   "metadata": {},
   "source": [
    "Data length $L=2000$ is used as the first test."
   ]
  },
  {
   "cell_type": "code",
   "execution_count": 3,
   "metadata": {
    "collapsed": true
   },
   "outputs": [],
   "source": [
    "l = 2000\n",
    "s = simulate.generate_data(w0,l)"
   ]
  },
  {
   "cell_type": "markdown",
   "metadata": {},
   "source": [
    "Similar to FEM and eMF, MLE is an iterative algorithm. We first run this method as discribed in (Ref), without stopping criterion."
   ]
  },
  {
   "cell_type": "code",
   "execution_count": 4,
   "metadata": {
    "collapsed": true
   },
   "outputs": [],
   "source": [
    "niter = 1000\n",
    "rate = 1.\n",
    "wMLE = inference.mle(s,niter,rate,stop_criterion='yes')"
   ]
  },
  {
   "cell_type": "code",
   "execution_count": 5,
   "metadata": {
    "collapsed": true
   },
   "outputs": [],
   "source": [
    "niter = 100\n",
    "wFEM = inference.fem(s,niter)"
   ]
  },
  {
   "cell_type": "code",
   "execution_count": 6,
   "metadata": {
    "collapsed": false
   },
   "outputs": [
    {
     "data": {
      "image/png": "[encoded data removed]",
      "text/plain": [
       "<matplotlib.figure.Figure at 0x7f09957635d0>"
      ]
     },
     "metadata": {},
     "output_type": "display_data"
    }
   ],
   "source": [
    "plt.figure(figsize=(6.5,3.2))\n",
    "\n",
    "plt.subplot2grid((1,2),(0,0))\n",
    "plt.title('MLE')\n",
    "plt.plot([-1,1],[-1,1],'r--')\n",
    "plt.scatter(w0,wMLE)\n",
    "plt.xlabel('$w0$')\n",
    "plt.ylabel('$w$')\n",
    "\n",
    "plt.subplot2grid((1,2),(0,1))\n",
    "plt.title('FEM')\n",
    "plt.plot([-1,1],[-1,1],'r--')\n",
    "plt.scatter(w0,wFEM)\n",
    "plt.xlabel('$w0$')\n",
    "plt.ylabel('$w$')\n",
    "\n",
    "plt.tight_layout(h_pad=1, w_pad=1.5)\n",
    "plt.show()"
   ]
  },
  {
   "cell_type": "code",
   "execution_count": 7,
   "metadata": {
    "collapsed": false
   },
   "outputs": [
    {
     "name": "stdout",
     "output_type": "stream",
     "text": [
      "('MSE by MLE:', 0.0029889738949936415)\n",
      "('MSE by FEM:', 0.0022216772706863713)\n"
     ]
    }
   ],
   "source": [
    "MSE_MLE = np.mean((wMLE-w0)**2)\n",
    "print('MSE by MLE:',MSE_MLE)\n",
    "\n",
    "MSE_FEM = np.mean((wFEM-w0)**2)\n",
    "print('MSE by FEM:',MSE_FEM)"
   ]
  },
  {
   "cell_type": "markdown",
   "metadata": {},
   "source": [
    "Large coupling variance"
   ]
  },
  {
   "cell_type": "code",
   "execution_count": 8,
   "metadata": {
    "collapsed": true
   },
   "outputs": [],
   "source": [
    "g = 4.0    # coupling variance\n",
    "w0 = np.random.normal(0.0,g/np.sqrt(n),size=(n,n))\n",
    "\n",
    "l = 2000\n",
    "s = simulate.generate_data(w0,l)"
   ]
  },
  {
   "cell_type": "code",
   "execution_count": 9,
   "metadata": {
    "collapsed": true
   },
   "outputs": [],
   "source": [
    "niter = 1000\n",
    "rate = 1.\n",
    "wMLE = inference.mle(s,niter,rate,stop_criterion='yes')"
   ]
  },
  {
   "cell_type": "code",
   "execution_count": 10,
   "metadata": {
    "collapsed": true
   },
   "outputs": [],
   "source": [
    "niter = 100\n",
    "wFEM = inference.fem(s,niter)"
   ]
  },
  {
   "cell_type": "code",
   "execution_count": 13,
   "metadata": {
    "collapsed": false
   },
   "outputs": [
    {
     "data": {
      "image/png": "[encoded data removed]",
      "text/plain": [
       "<matplotlib.figure.Figure at 0x7f096eb0ee50>"
      ]
     },
     "metadata": {},
     "output_type": "display_data"
    }
   ],
   "source": [
    "plt.figure(figsize=(6.5,3.2))\n",
    "\n",
    "plt.subplot2grid((1,2),(0,0))\n",
    "plt.title('MLE')\n",
    "plt.plot([-1.5,1.5],[-1.5,1.5],'r--')\n",
    "plt.scatter(w0,wMLE)\n",
    "plt.xlabel('$w0$')\n",
    "plt.ylabel('$w$')\n",
    "\n",
    "plt.subplot2grid((1,2),(0,1))\n",
    "plt.title('FEM')\n",
    "plt.plot([-1.5,1.5],[-1.5,1.5],'r--')\n",
    "plt.scatter(w0,wFEM)\n",
    "plt.xlabel('$w0$')\n",
    "plt.ylabel('$w$')\n",
    "\n",
    "plt.tight_layout(h_pad=1, w_pad=1.5)\n",
    "plt.show()"
   ]
  },
  {
   "cell_type": "code",
   "execution_count": 12,
   "metadata": {
    "collapsed": false
   },
   "outputs": [
    {
     "name": "stdout",
     "output_type": "stream",
     "text": [
      "('MSE by MLE:', 0.016182718660628405)\n",
      "('MSE by FEM:', 0.0055287782112962555)\n"
     ]
    }
   ],
   "source": [
    "MSE_MLE = np.mean((wMLE-w0)**2)\n",
    "print('MSE by MLE:',MSE_MLE)\n",
    "\n",
    "MSE_FEM = np.mean((wFEM-w0)**2)\n",
    "print('MSE by FEM:',MSE_FEM)"
   ]
  }
 ],
 "metadata": {
  "kernelspec": {
   "display_name": "Python 2",
   "language": "python",
   "name": "python2"
  },
  "language_info": {
   "codemirror_mode": {
    "name": "ipython",
    "version": 2
   },
   "file_extension": ".py",
   "mimetype": "text/x-python",
   "name": "python",
   "nbconvert_exporter": "python",
   "pygments_lexer": "ipython2",
   "version": "2.7.13"
  }
 },
 "nbformat": 4,
 "nbformat_minor": 2
}
